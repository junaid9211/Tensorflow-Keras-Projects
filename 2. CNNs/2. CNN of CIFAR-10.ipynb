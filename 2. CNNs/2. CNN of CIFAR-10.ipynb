{
 "cells": [
  {
   "cell_type": "markdown",
   "id": "3c632406",
   "metadata": {},
   "source": [
    "# Image Classification on CIFAR-10 keras Dataset\n",
    "\n",
    "CIFAR-10 is a dataset of 50,000 32x32 color training images and 10,000 test images, labeled over 10 categories.\n",
    "\n",
    "labels are  ['airplane', 'automobile', 'bird', 'cat', 'deer', 'dog', 'frog', 'horse', 'ship', 'truck']"
   ]
  },
  {
   "cell_type": "markdown",
   "id": "8008b4a4",
   "metadata": {},
   "source": [
    "## Import some useful libraries"
   ]
  },
  {
   "cell_type": "code",
   "execution_count": 1,
   "id": "be11e726",
   "metadata": {},
   "outputs": [],
   "source": [
    "import numpy as np\n",
    "import pandas as pd\n",
    "import matplotlib.pyplot as plt\n",
    "import seaborn as sns\n",
    "%matplotlib inline"
   ]
  },
  {
   "cell_type": "markdown",
   "id": "68336f21",
   "metadata": {},
   "source": [
    "**Load in the data**"
   ]
  },
  {
   "cell_type": "code",
   "execution_count": 4,
   "id": "60d8cb2c",
   "metadata": {},
   "outputs": [],
   "source": [
    "from tensorflow.keras.datasets import cifar10"
   ]
  },
  {
   "cell_type": "code",
   "execution_count": 5,
   "id": "3bb6dab7",
   "metadata": {},
   "outputs": [
    {
     "name": "stdout",
     "output_type": "stream",
     "text": [
      "Downloading data from https://www.cs.toronto.edu/~kriz/cifar-10-python.tar.gz\n",
      "170498071/170498071 [==============================] - 460s 3us/step\n"
     ]
    }
   ],
   "source": [
    "(x_train, y_train), (x_test, y_test) = cifar10.load_data()"
   ]
  },
  {
   "cell_type": "markdown",
   "id": "9472cc2a",
   "metadata": {},
   "source": [
    "### Check an image"
   ]
  },
  {
   "cell_type": "code",
   "execution_count": 31,
   "id": "cfd407d2",
   "metadata": {},
   "outputs": [
    {
     "data": {
      "text/plain": [
       "<matplotlib.image.AxesImage at 0x257ab2730a0>"
      ]
     },
     "execution_count": 31,
     "metadata": {},
     "output_type": "execute_result"
    },
    {
     "data": {
      "image/png": "[encoded data removed]",
      "text/plain": [
       "<Figure size 108x108 with 1 Axes>"
      ]
     },
     "metadata": {
      "needs_background": "light"
     },
     "output_type": "display_data"
    }
   ],
   "source": [
    "plt.figure(figsize=(1.5,1.5))\n",
    "plt.imshow(x_train[12])"
   ]
  },
  {
   "cell_type": "markdown",
   "id": "a943b2e5",
   "metadata": {},
   "source": [
    "## Scale x_train and x_test"
   ]
  },
  {
   "cell_type": "code",
   "execution_count": 10,
   "id": "36e23af6",
   "metadata": {},
   "outputs": [],
   "source": [
    "x_train = x_train/255\n",
    "x_test = x_test/255"
   ]
  },
  {
   "cell_type": "markdown",
   "id": "0c44540a",
   "metadata": {},
   "source": [
    "## One hot encode y_train and y_test"
   ]
  },
  {
   "cell_type": "code",
   "execution_count": 11,
   "id": "f895b287",
   "metadata": {},
   "outputs": [],
   "source": [
    "from tensorflow.keras.utils import to_categorical\n",
    "y_cat_train = to_categorical(y_train)\n",
    "y_cat_test = to_categorical(y_test)"
   ]
  },
  {
   "cell_type": "markdown",
   "id": "baa6b8fe",
   "metadata": {},
   "source": [
    "# Create Convolutional model"
   ]
  },
  {
   "cell_type": "code",
   "execution_count": 32,
   "id": "8cc4c731",
   "metadata": {},
   "outputs": [],
   "source": [
    "from tensorflow.keras.models import Sequential\n",
    "from tensorflow.keras.layers import Dense, Conv2D, MaxPool2D, Flatten"
   ]
  },
  {
   "cell_type": "code",
   "execution_count": 33,
   "id": "b9dd2150",
   "metadata": {},
   "outputs": [],
   "source": [
    "model = Sequential()\n",
    "\n",
    "# Convolutional layer\n",
    "model.add(Conv2D(filters=32, kernel_size=(4,4), input_shape=(32,32,3), activation='relu'))\n",
    "\n",
    "# Pooling layer\n",
    "model.add(MaxPool2D(pool_size=(2,2)))\n",
    "\n",
    "# Convolutional layer\n",
    "model.add(Conv2D(filters=32, kernel_size=(4,4),input_shape=(32,32,3), activation='relu'))\n",
    "\n",
    "# Pooling layer\n",
    "model.add(MaxPool2D(pool_size=(2,2)))\n",
    "\n",
    "# Flatten the inputs\n",
    "model.add(Flatten())\n",
    "model.add(Dense(128, activation='relu'))\n",
    "\n",
    "# Output layer\n",
    "model.add(Dense(10, activation='softmax'))\n",
    "\n",
    "# Compile model\n",
    "model.compile(loss='categorical_crossentropy', optimizer='adam', metrics=['accuracy'])"
   ]
  },
  {
   "cell_type": "markdown",
   "id": "20bdfa7e",
   "metadata": {},
   "source": [
    "### Create early stopping callback"
   ]
  },
  {
   "cell_type": "code",
   "execution_count": 35,
   "id": "5338d3b5",
   "metadata": {},
   "outputs": [],
   "source": [
    "from tensorflow.keras.callbacks import EarlyStopping\n",
    "early_stopping = EarlyStopping(monitor='val_loss', mode='min', patience=2)"
   ]
  },
  {
   "cell_type": "markdown",
   "id": "44b1bc36",
   "metadata": {},
   "source": [
    "# train/fit the model"
   ]
  },
  {
   "cell_type": "code",
   "execution_count": 36,
   "id": "18fee492",
   "metadata": {},
   "outputs": [
    {
     "name": "stdout",
     "output_type": "stream",
     "text": [
      "Epoch 1/15\n",
      "1563/1563 [==============================] - 96s 48ms/step - loss: 1.5469 - accuracy: 0.4379 - val_loss: 1.3828 - val_accuracy: 0.5018\n",
      "Epoch 2/15\n",
      "1563/1563 [==============================] - 45s 29ms/step - loss: 1.2461 - accuracy: 0.5600 - val_loss: 1.1768 - val_accuracy: 0.5832\n",
      "Epoch 3/15\n",
      "1563/1563 [==============================] - 47s 30ms/step - loss: 1.1044 - accuracy: 0.6100 - val_loss: 1.1459 - val_accuracy: 0.6003\n",
      "Epoch 4/15\n",
      "1563/1563 [==============================] - 47s 30ms/step - loss: 1.0107 - accuracy: 0.6440 - val_loss: 1.0628 - val_accuracy: 0.6335\n",
      "Epoch 5/15\n",
      "1563/1563 [==============================] - 47s 30ms/step - loss: 0.9367 - accuracy: 0.6700 - val_loss: 1.0412 - val_accuracy: 0.6414\n",
      "Epoch 6/15\n",
      "1563/1563 [==============================] - 48s 31ms/step - loss: 0.8784 - accuracy: 0.6923 - val_loss: 1.0024 - val_accuracy: 0.6528\n",
      "Epoch 7/15\n",
      "1563/1563 [==============================] - 49s 31ms/step - loss: 0.8231 - accuracy: 0.7122 - val_loss: 1.0001 - val_accuracy: 0.6564\n",
      "Epoch 8/15\n",
      "1563/1563 [==============================] - 51s 33ms/step - loss: 0.7749 - accuracy: 0.7292 - val_loss: 0.9584 - val_accuracy: 0.6720\n",
      "Epoch 9/15\n",
      "1563/1563 [==============================] - 52s 33ms/step - loss: 0.7374 - accuracy: 0.7409 - val_loss: 0.9613 - val_accuracy: 0.6736\n",
      "Epoch 10/15\n",
      "1563/1563 [==============================] - 51s 33ms/step - loss: 0.7029 - accuracy: 0.7526 - val_loss: 0.9694 - val_accuracy: 0.6692\n"
     ]
    },
    {
     "data": {
      "text/plain": [
       "<keras.callbacks.History at 0x257ab660cd0>"
      ]
     },
     "execution_count": 36,
     "metadata": {},
     "output_type": "execute_result"
    }
   ],
   "source": [
    "model.fit(x_train, y_cat_train, epochs=15, validation_data=(x_test, y_cat_test), callbacks=[early_stopping])"
   ]
  },
  {
   "cell_type": "markdown",
   "id": "98b5e8d1",
   "metadata": {},
   "source": [
    "## Save the model"
   ]
  },
  {
   "cell_type": "code",
   "execution_count": 63,
   "id": "48956b30",
   "metadata": {},
   "outputs": [],
   "source": [
    "model.save('cifar10_classifier.h5')"
   ]
  },
  {
   "cell_type": "markdown",
   "id": "32b1f6bb",
   "metadata": {},
   "source": [
    "## Evaluate the model"
   ]
  },
  {
   "cell_type": "code",
   "execution_count": 65,
   "id": "59175bbd",
   "metadata": {},
   "outputs": [],
   "source": [
    "metrics = pd.DataFrame(model.history.history)"
   ]
  },
  {
   "cell_type": "code",
   "execution_count": 70,
   "id": "bd248416",
   "metadata": {},
   "outputs": [
    {
     "data": {
      "text/html": [
       "<div>\n",
       "<style scoped>\n",
       "    .dataframe tbody tr th:only-of-type {\n",
       "        vertical-align: middle;\n",
       "    }\n",
       "\n",
       "    .dataframe tbody tr th {\n",
       "        vertical-align: top;\n",
       "    }\n",
       "\n",
       "    .dataframe thead th {\n",
       "        text-align: right;\n",
       "    }\n",
       "</style>\n",
       "<table border=\"1\" class=\"dataframe\">\n",
       "  <thead>\n",
       "    <tr style=\"text-align: right;\">\n",
       "      <th></th>\n",
       "      <th>loss</th>\n",
       "      <th>accuracy</th>\n",
       "      <th>val_loss</th>\n",
       "      <th>val_accuracy</th>\n",
       "    </tr>\n",
       "  </thead>\n",
       "  <tbody>\n",
       "    <tr>\n",
       "      <th>0</th>\n",
       "      <td>1.546948</td>\n",
       "      <td>0.43794</td>\n",
       "      <td>1.382767</td>\n",
       "      <td>0.5018</td>\n",
       "    </tr>\n",
       "    <tr>\n",
       "      <th>1</th>\n",
       "      <td>1.246055</td>\n",
       "      <td>0.56002</td>\n",
       "      <td>1.176787</td>\n",
       "      <td>0.5832</td>\n",
       "    </tr>\n",
       "    <tr>\n",
       "      <th>2</th>\n",
       "      <td>1.104442</td>\n",
       "      <td>0.60998</td>\n",
       "      <td>1.145886</td>\n",
       "      <td>0.6003</td>\n",
       "    </tr>\n",
       "    <tr>\n",
       "      <th>3</th>\n",
       "      <td>1.010652</td>\n",
       "      <td>0.64400</td>\n",
       "      <td>1.062784</td>\n",
       "      <td>0.6335</td>\n",
       "    </tr>\n",
       "    <tr>\n",
       "      <th>4</th>\n",
       "      <td>0.936746</td>\n",
       "      <td>0.66996</td>\n",
       "      <td>1.041156</td>\n",
       "      <td>0.6414</td>\n",
       "    </tr>\n",
       "    <tr>\n",
       "      <th>5</th>\n",
       "      <td>0.878438</td>\n",
       "      <td>0.69228</td>\n",
       "      <td>1.002396</td>\n",
       "      <td>0.6528</td>\n",
       "    </tr>\n",
       "    <tr>\n",
       "      <th>6</th>\n",
       "      <td>0.823065</td>\n",
       "      <td>0.71218</td>\n",
       "      <td>1.000058</td>\n",
       "      <td>0.6564</td>\n",
       "    </tr>\n",
       "    <tr>\n",
       "      <th>7</th>\n",
       "      <td>0.774919</td>\n",
       "      <td>0.72924</td>\n",
       "      <td>0.958387</td>\n",
       "      <td>0.6720</td>\n",
       "    </tr>\n",
       "    <tr>\n",
       "      <th>8</th>\n",
       "      <td>0.737357</td>\n",
       "      <td>0.74092</td>\n",
       "      <td>0.961291</td>\n",
       "      <td>0.6736</td>\n",
       "    </tr>\n",
       "    <tr>\n",
       "      <th>9</th>\n",
       "      <td>0.702894</td>\n",
       "      <td>0.75262</td>\n",
       "      <td>0.969400</td>\n",
       "      <td>0.6692</td>\n",
       "    </tr>\n",
       "  </tbody>\n",
       "</table>\n",
       "</div>"
      ],
      "text/plain": [
       "       loss  accuracy  val_loss  val_accuracy\n",
       "0  1.546948   0.43794  1.382767        0.5018\n",
       "1  1.246055   0.56002  1.176787        0.5832\n",
       "2  1.104442   0.60998  1.145886        0.6003\n",
       "3  1.010652   0.64400  1.062784        0.6335\n",
       "4  0.936746   0.66996  1.041156        0.6414\n",
       "5  0.878438   0.69228  1.002396        0.6528\n",
       "6  0.823065   0.71218  1.000058        0.6564\n",
       "7  0.774919   0.72924  0.958387        0.6720\n",
       "8  0.737357   0.74092  0.961291        0.6736\n",
       "9  0.702894   0.75262  0.969400        0.6692"
      ]
     },
     "execution_count": 70,
     "metadata": {},
     "output_type": "execute_result"
    }
   ],
   "source": [
    "metrics"
   ]
  },
  {
   "cell_type": "code",
   "execution_count": 71,
   "id": "5e82b15b",
   "metadata": {},
   "outputs": [
    {
     "data": {
      "text/plain": [
       "<AxesSubplot:>"
      ]
     },
     "execution_count": 71,
     "metadata": {},
     "output_type": "execute_result"
    },
    {
     "data": {
      "image/png": "[encoded data removed]",
      "text/plain": [
       "<Figure size 432x288 with 1 Axes>"
      ]
     },
     "metadata": {
      "needs_background": "light"
     },
     "output_type": "display_data"
    }
   ],
   "source": [
    "metrics[['accuracy', 'val_accuracy']].plot()"
   ]
  },
  {
   "cell_type": "code",
   "execution_count": 73,
   "id": "3242f8af",
   "metadata": {},
   "outputs": [
    {
     "data": {
      "text/plain": [
       "<AxesSubplot:>"
      ]
     },
     "execution_count": 73,
     "metadata": {},
     "output_type": "execute_result"
    },
    {
     "data": {
      "image/png": "[encoded data removed]",
      "text/plain": [
       "<Figure size 432x288 with 1 Axes>"
      ]
     },
     "metadata": {
      "needs_background": "light"
     },
     "output_type": "display_data"
    }
   ],
   "source": [
    "metrics[['loss', 'val_loss']].plot()"
   ]
  },
  {
   "cell_type": "markdown",
   "id": "201b876a",
   "metadata": {},
   "source": [
    "# Confusion matrix and classification report"
   ]
  },
  {
   "cell_type": "code",
   "execution_count": 40,
   "id": "b62e4bd3",
   "metadata": {},
   "outputs": [],
   "source": [
    "from sklearn.metrics import confusion_matrix, classification_report"
   ]
  },
  {
   "cell_type": "code",
   "execution_count": 41,
   "id": "deb958fd",
   "metadata": {},
   "outputs": [
    {
     "name": "stdout",
     "output_type": "stream",
     "text": [
      "313/313 [==============================] - 4s 12ms/step\n"
     ]
    }
   ],
   "source": [
    "predictions = model.predict(x_test)\n",
    "predictions = np.argmax(predictions, axis=1)"
   ]
  },
  {
   "cell_type": "markdown",
   "id": "56428264",
   "metadata": {},
   "source": [
    "## Confusion Matrix"
   ]
  },
  {
   "cell_type": "code",
   "execution_count": 53,
   "id": "6fc6bfd4",
   "metadata": {},
   "outputs": [
    {
     "data": {
      "text/plain": [
       "<AxesSubplot:>"
      ]
     },
     "execution_count": 53,
     "metadata": {},
     "output_type": "execute_result"
    },
    {
     "data": {
      "image/png": "[encoded data removed]",
      "text/plain": [
       "<Figure size 720x576 with 2 Axes>"
      ]
     },
     "metadata": {
      "needs_background": "light"
     },
     "output_type": "display_data"
    }
   ],
   "source": [
    "con_mat = confusion_matrix(y_test, predictions)\n",
    "labels = ['airplane','automobile','bird','cat','deer','dog','frog','horse','ship','truck']\n",
    "plt.figure(figsize=(10,8))\n",
    "sns.heatmap(con_mat, yticklabels=labels, annot=True, fmt='d', cmap='viridis', xticklabels=labels)"
   ]
  },
  {
   "cell_type": "markdown",
   "id": "83f0dda6",
   "metadata": {},
   "source": [
    "## Classification Report"
   ]
  },
  {
   "cell_type": "code",
   "execution_count": 55,
   "id": "1270e5e0",
   "metadata": {},
   "outputs": [
    {
     "name": "stdout",
     "output_type": "stream",
     "text": [
      "              precision    recall  f1-score   support\n",
      "\n",
      "           0       0.70      0.71      0.70      1000\n",
      "           1       0.79      0.79      0.79      1000\n",
      "           2       0.62      0.47      0.53      1000\n",
      "           3       0.44      0.56      0.49      1000\n",
      "           4       0.54      0.71      0.61      1000\n",
      "           5       0.69      0.41      0.52      1000\n",
      "           6       0.73      0.78      0.75      1000\n",
      "           7       0.76      0.71      0.74      1000\n",
      "           8       0.79      0.76      0.77      1000\n",
      "           9       0.74      0.78      0.76      1000\n",
      "\n",
      "    accuracy                           0.67     10000\n",
      "   macro avg       0.68      0.67      0.67     10000\n",
      "weighted avg       0.68      0.67      0.67     10000\n",
      "\n"
     ]
    }
   ],
   "source": [
    "print(classification_report(y_test, predictions))"
   ]
  },
  {
   "cell_type": "markdown",
   "id": "f12584d1",
   "metadata": {},
   "source": [
    "## Predicting a sample image"
   ]
  },
  {
   "cell_type": "code",
   "execution_count": 74,
   "id": "2c7444d0",
   "metadata": {},
   "outputs": [
    {
     "data": {
      "text/plain": [
       "<matplotlib.image.AxesImage at 0x25806d97a30>"
      ]
     },
     "execution_count": 74,
     "metadata": {},
     "output_type": "execute_result"
    },
    {
     "data": {
      "image/png": "[encoded data removed]",
      "text/plain": [
       "<Figure size 108x108 with 1 Axes>"
      ]
     },
     "metadata": {
      "needs_background": "light"
     },
     "output_type": "display_data"
    }
   ],
   "source": [
    "sample_image = x_test[16]\n",
    "plt.figure(figsize=(1.5,1.5))\n",
    "plt.imshow(sample_image)"
   ]
  },
  {
   "cell_type": "code",
   "execution_count": 75,
   "id": "2460839d",
   "metadata": {},
   "outputs": [
    {
     "data": {
      "text/plain": [
       "array([5], dtype=uint8)"
      ]
     },
     "execution_count": 75,
     "metadata": {},
     "output_type": "execute_result"
    }
   ],
   "source": [
    "y_test[16]"
   ]
  },
  {
   "cell_type": "markdown",
   "id": "495f57db",
   "metadata": {},
   "source": [
    "**True class is dog** (class 5 corresponds to dog)"
   ]
  },
  {
   "cell_type": "code",
   "execution_count": 60,
   "id": "28f4a0e4",
   "metadata": {},
   "outputs": [
    {
     "name": "stdout",
     "output_type": "stream",
     "text": [
      "1/1 [==============================] - 0s 21ms/step\n"
     ]
    },
    {
     "data": {
      "text/plain": [
       "array([5], dtype=int64)"
      ]
     },
     "execution_count": 60,
     "metadata": {},
     "output_type": "execute_result"
    }
   ],
   "source": [
    "np.argmax(model.predict(sample_image.reshape(1,32,32,3)), axis=1)"
   ]
  },
  {
   "cell_type": "markdown",
   "id": "1d72f059",
   "metadata": {},
   "source": [
    "**Predicted class is also dog** (class 5 corresponds to dog)"
   ]
  },
  {
   "cell_type": "markdown",
   "id": "a7b4a1bc",
   "metadata": {},
   "source": [
    "# Done"
   ]
  },
  {
   "cell_type": "code",
   "execution_count": null,
   "id": "640e3a42",
   "metadata": {},
   "outputs": [],
   "source": []
  }
 ],
 "metadata": {
  "kernelspec": {
   "display_name": "Python 3 (ipykernel)",
   "language": "python",
   "name": "python3"
  },
  "language_info": {
   "codemirror_mode": {
    "name": "ipython",
    "version": 3
   },
   "file_extension": ".py",
   "mimetype": "text/x-python",
   "name": "python",
   "nbconvert_exporter": "python",
   "pygments_lexer": "ipython3",
   "version": "3.9.12"
  }
 },
 "nbformat": 4,
 "nbformat_minor": 5
}
