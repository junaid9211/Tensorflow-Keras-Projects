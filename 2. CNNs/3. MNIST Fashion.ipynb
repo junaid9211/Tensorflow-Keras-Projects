{
 "cells": [
  {
   "cell_type": "markdown",
   "id": "223f99e6-4dd9-48b2-8d57-a9700d1ffeaf",
   "metadata": {},
   "source": [
    "## The Challenge\n",
    "\n",
    "**Your task is to build an image classifier with Keras and Convolutional Neural Networks for the Fashion MNIST dataset. This data set includes 10 labels of different clothing types with 28 by 28 *grayscale* images. There is a training set of 60,000 images and 10,000 test images.**\n",
    "\n",
    "    Label\tDescription\n",
    "    0\t    T-shirt/top\n",
    "    1\t    Trouser\n",
    "    2\t    Pullover\n",
    "    3\t    Dress\n",
    "    4\t    Coat\n",
    "    5\t    Sandal\n",
    "    6\t    Shirt\n",
    "    7\t    Sneaker\n",
    "    8\t    Bag\n",
    "    9\t    Ankle boot"
   ]
  },
  {
   "cell_type": "markdown",
   "id": "34e29f78-b521-4fe8-81c4-96bdf57050db",
   "metadata": {},
   "source": [
    "## Imports"
   ]
  },
  {
   "cell_type": "code",
   "execution_count": 11,
   "id": "54913984-aa5b-42d4-813c-964d6c800599",
   "metadata": {},
   "outputs": [],
   "source": [
    "import numpy as np\n",
    "import pandas as pd\n",
    "import matplotlib.pyplot as plt\n",
    "import seaborn as sns\n",
    "%matplotlib inline\n",
    "%config Completer.use_jedi = False"
   ]
  },
  {
   "cell_type": "markdown",
   "id": "02088e98-768b-4429-ade2-da01846489cb",
   "metadata": {},
   "source": [
    "## Get the data"
   ]
  },
  {
   "cell_type": "code",
   "execution_count": 3,
   "id": "7f3b3819-30f4-4550-9a67-6a23ac81aeaa",
   "metadata": {},
   "outputs": [],
   "source": [
    "from tensorflow.keras.datasets import fashion_mnist\n",
    "(x_train, y_train), (x_test, y_test) = fashion_mnist.load_data()"
   ]
  },
  {
   "cell_type": "markdown",
   "id": "1a31df22-b6c2-40bc-9bd4-da09de43f7a6",
   "metadata": {},
   "source": [
    "## Check shape"
   ]
  },
  {
   "cell_type": "code",
   "execution_count": 4,
   "id": "242cc367-2373-4b33-ace4-1f47af94e3d2",
   "metadata": {},
   "outputs": [
    {
     "data": {
      "text/plain": [
       "(60000, 28, 28)"
      ]
     },
     "execution_count": 4,
     "metadata": {},
     "output_type": "execute_result"
    }
   ],
   "source": [
    "x_train.shape"
   ]
  },
  {
   "cell_type": "code",
   "execution_count": 5,
   "id": "d7e4b84d-fd7a-4621-bece-f92410bcfa18",
   "metadata": {},
   "outputs": [
    {
     "data": {
      "text/plain": [
       "(10000, 28, 28)"
      ]
     },
     "execution_count": 5,
     "metadata": {},
     "output_type": "execute_result"
    }
   ],
   "source": [
    "x_test.shape"
   ]
  },
  {
   "cell_type": "code",
   "execution_count": 6,
   "id": "cb406a54-1ccd-4109-81c7-eb2047c3d18b",
   "metadata": {},
   "outputs": [
    {
     "data": {
      "text/plain": [
       "(60000,)"
      ]
     },
     "execution_count": 6,
     "metadata": {},
     "output_type": "execute_result"
    }
   ],
   "source": [
    "y_train.shape"
   ]
  },
  {
   "cell_type": "code",
   "execution_count": 8,
   "id": "43a947b0-fd5d-4a2b-884a-2560fc59b01d",
   "metadata": {},
   "outputs": [
    {
     "data": {
      "text/plain": [
       "(10000,)"
      ]
     },
     "execution_count": 8,
     "metadata": {},
     "output_type": "execute_result"
    }
   ],
   "source": [
    "y_test.shape"
   ]
  },
  {
   "cell_type": "markdown",
   "id": "458c45c2-350a-4774-8ebb-e32d416fb100",
   "metadata": {},
   "source": [
    "## Check an image"
   ]
  },
  {
   "cell_type": "code",
   "execution_count": 65,
   "id": "cd51f099-d76c-4551-b4f2-4fb882b36468",
   "metadata": {},
   "outputs": [
    {
     "data": {
      "text/plain": [
       "<matplotlib.image.AxesImage at 0x1eacb1d3610>"
      ]
     },
     "execution_count": 65,
     "metadata": {},
     "output_type": "execute_result"
    },
    {
     "data": {
      "image/png": "[encoded data removed]",
      "text/plain": [
       "<Figure size 432x288 with 1 Axes>"
      ]
     },
     "metadata": {
      "needs_background": "light"
     },
     "output_type": "display_data"
    }
   ],
   "source": [
    "plt.imshow(x_test[0])"
   ]
  },
  {
   "cell_type": "markdown",
   "id": "a329b6aa-d39f-4af0-8fb4-f5faa4a7a9d4",
   "metadata": {},
   "source": [
    "## Scale x_train and x_test"
   ]
  },
  {
   "cell_type": "code",
   "execution_count": 9,
   "id": "79263241-e2b6-4f0c-9740-aa24a8f801d5",
   "metadata": {},
   "outputs": [],
   "source": [
    "x_train = x_train/255\n",
    "x_test = x_test /255"
   ]
  },
  {
   "cell_type": "markdown",
   "id": "a52e9eba-22d2-4e8a-ba1a-f53e166f78ed",
   "metadata": {},
   "source": [
    "## Reshape x_train and x_test"
   ]
  },
  {
   "cell_type": "code",
   "execution_count": 14,
   "id": "841c6fad-eab4-47a9-b788-f6ac6dadf8ee",
   "metadata": {},
   "outputs": [],
   "source": [
    "x_train = np.expand_dims(x_train, axis=3)\n",
    "x_test = np.expand_dims(x_test, axis=3)"
   ]
  },
  {
   "cell_type": "markdown",
   "id": "4d87f6d2-6d4b-49a9-b066-d0ba5f9f7f66",
   "metadata": {},
   "source": [
    "## One hot encode y_train and y_test labels"
   ]
  },
  {
   "cell_type": "code",
   "execution_count": 16,
   "id": "37de41c3-0814-48bd-b3e5-3a5ba3046e2e",
   "metadata": {},
   "outputs": [],
   "source": [
    "from tensorflow.keras.utils import to_categorical\n",
    "y_cat_train = to_categorical(y_train)\n",
    "y_cat_test = to_categorical(y_test)"
   ]
  },
  {
   "cell_type": "markdown",
   "id": "7cb86836-ccfb-4f27-b68f-060d9d5caf3d",
   "metadata": {},
   "source": [
    "## Create model"
   ]
  },
  {
   "cell_type": "markdown",
   "id": "26fe2cde-27ae-4b2b-a90a-49283f5a4648",
   "metadata": {},
   "source": [
    "**Import model, layers and early stopping callback**"
   ]
  },
  {
   "cell_type": "code",
   "execution_count": 19,
   "id": "d59f6ab6-b1de-48d6-a9e6-66a3b94d4e85",
   "metadata": {},
   "outputs": [],
   "source": [
    "from tensorflow.keras.models import Sequential\n",
    "from tensorflow.keras.layers import Dense, Conv2D, MaxPool2D, Flatten, Dropout\n",
    "from tensorflow.keras.callbacks import EarlyStopping"
   ]
  },
  {
   "cell_type": "markdown",
   "id": "696cc585-772c-47f0-ac1a-0f8819eb0dae",
   "metadata": {},
   "source": [
    "**Create model**"
   ]
  },
  {
   "cell_type": "code",
   "execution_count": 21,
   "id": "d63adc6e-74a2-4c8d-8933-dd4f4e9c109d",
   "metadata": {},
   "outputs": [],
   "source": [
    "early_stop = EarlyStopping(monitor='val_loss', mode='min', patience=1)\n",
    "\n",
    "model = Sequential()\n",
    "\n",
    "# Convolution layers\n",
    "model.add(Conv2D(filters=32, kernel_size=(4,4), input_shape=(28,28,1), activation='relu'))\n",
    "model.add(MaxPool2D())\n",
    "\n",
    "model.add(Conv2D(filters=32, kernel_size=(4,4), input_shape=(28,28,1), activation='relu'))\n",
    "model.add(MaxPool2D())\n",
    "\n",
    "# Flatten\n",
    "model.add(Flatten())\n",
    "model.add(Dense(128, activation='relu'))\n",
    "\n",
    "# Dropout layer to avoid overfitting\n",
    "model.add(Dropout(0.5))\n",
    "\n",
    "# output layer\n",
    "model.add(Dense(10, activation='softmax'))\n",
    "\n",
    "#compile the model\n",
    "model.compile(loss='categorical_crossentropy', optimizer='adam', metrics=['accuracy'])"
   ]
  },
  {
   "cell_type": "code",
   "execution_count": 22,
   "id": "e8c08ac5-9a61-428c-a696-08a643fe558c",
   "metadata": {},
   "outputs": [
    {
     "name": "stdout",
     "output_type": "stream",
     "text": [
      "Model: \"sequential\"\n",
      "_________________________________________________________________\n",
      " Layer (type)                Output Shape              Param #   \n",
      "=================================================================\n",
      " conv2d (Conv2D)             (None, 25, 25, 32)        544       \n",
      "                                                                 \n",
      " max_pooling2d (MaxPooling2D  (None, 12, 12, 32)       0         \n",
      " )                                                               \n",
      "                                                                 \n",
      " conv2d_1 (Conv2D)           (None, 9, 9, 32)          16416     \n",
      "                                                                 \n",
      " max_pooling2d_1 (MaxPooling  (None, 4, 4, 32)         0         \n",
      " 2D)                                                             \n",
      "                                                                 \n",
      " flatten (Flatten)           (None, 512)               0         \n",
      "                                                                 \n",
      " dense (Dense)               (None, 128)               65664     \n",
      "                                                                 \n",
      " dropout (Dropout)           (None, 128)               0         \n",
      "                                                                 \n",
      " dense_1 (Dense)             (None, 10)                1290      \n",
      "                                                                 \n",
      "=================================================================\n",
      "Total params: 83,914\n",
      "Trainable params: 83,914\n",
      "Non-trainable params: 0\n",
      "_________________________________________________________________\n"
     ]
    }
   ],
   "source": [
    "model.summary()"
   ]
  },
  {
   "cell_type": "code",
   "execution_count": 23,
   "id": "9028a11d-647a-4990-a25d-83d1edba3401",
   "metadata": {},
   "outputs": [
    {
     "name": "stdout",
     "output_type": "stream",
     "text": [
      "Epoch 1/20\n",
      "1875/1875 [==============================] - 31s 16ms/step - loss: 0.6211 - accuracy: 0.7743 - val_loss: 0.4118 - val_accuracy: 0.8482\n",
      "Epoch 2/20\n",
      "1875/1875 [==============================] - 29s 16ms/step - loss: 0.4104 - accuracy: 0.8529 - val_loss: 0.3622 - val_accuracy: 0.8670\n",
      "Epoch 3/20\n",
      "1875/1875 [==============================] - 32s 17ms/step - loss: 0.3577 - accuracy: 0.8713 - val_loss: 0.3378 - val_accuracy: 0.8754\n",
      "Epoch 4/20\n",
      "1875/1875 [==============================] - 35s 19ms/step - loss: 0.3290 - accuracy: 0.8802 - val_loss: 0.3229 - val_accuracy: 0.8809\n",
      "Epoch 5/20\n",
      "1875/1875 [==============================] - 36s 19ms/step - loss: 0.3086 - accuracy: 0.8875 - val_loss: 0.3116 - val_accuracy: 0.8839\n",
      "Epoch 6/20\n",
      "1875/1875 [==============================] - 37s 20ms/step - loss: 0.2932 - accuracy: 0.8931 - val_loss: 0.3145 - val_accuracy: 0.8863\n"
     ]
    },
    {
     "data": {
      "text/plain": [
       "<keras.callbacks.History at 0x1eaab3f4220>"
      ]
     },
     "execution_count": 23,
     "metadata": {},
     "output_type": "execute_result"
    }
   ],
   "source": [
    "model.fit(x_train, y_cat_train, epochs=20, validation_data=(x_test, y_cat_test), callbacks=[early_stop])"
   ]
  },
  {
   "cell_type": "markdown",
   "id": "d823966c-9b9c-4482-abe8-065823e495bc",
   "metadata": {},
   "source": [
    "## Evaluate model"
   ]
  },
  {
   "cell_type": "code",
   "execution_count": 24,
   "id": "a63b37be-c707-4477-9d2e-b6d58a4ebfc5",
   "metadata": {},
   "outputs": [],
   "source": [
    "loss = pd.DataFrame(model.history.history)"
   ]
  },
  {
   "cell_type": "markdown",
   "id": "a1e34e2d-569e-40d0-bca8-734d89a9f419",
   "metadata": {},
   "source": [
    "**plot loss and validation loss**"
   ]
  },
  {
   "cell_type": "code",
   "execution_count": 25,
   "id": "df51f7de-5dae-4635-81e1-beeb619df828",
   "metadata": {},
   "outputs": [
    {
     "data": {
      "text/plain": [
       "<AxesSubplot:>"
      ]
     },
     "execution_count": 25,
     "metadata": {},
     "output_type": "execute_result"
    },
    {
     "data": {
      "image/png": "[encoded data removed]",
      "text/plain": [
       "<Figure size 432x288 with 1 Axes>"
      ]
     },
     "metadata": {
      "needs_background": "light"
     },
     "output_type": "display_data"
    }
   ],
   "source": [
    "loss[['loss','val_loss']].plot()"
   ]
  },
  {
   "cell_type": "markdown",
   "id": "66ed6370-9738-4e5d-beb1-51fe59417322",
   "metadata": {},
   "source": [
    "**Plot accuracy and validation accuracy**"
   ]
  },
  {
   "cell_type": "code",
   "execution_count": 26,
   "id": "ab18bd37-889a-486e-b6cf-cfbc3842d37d",
   "metadata": {},
   "outputs": [
    {
     "data": {
      "text/plain": [
       "<AxesSubplot:>"
      ]
     },
     "execution_count": 26,
     "metadata": {},
     "output_type": "execute_result"
    },
    {
     "data": {
      "image/png": "[encoded data removed]",
      "text/plain": [
       "<Figure size 432x288 with 1 Axes>"
      ]
     },
     "metadata": {
      "needs_background": "light"
     },
     "output_type": "display_data"
    }
   ],
   "source": [
    "loss[['accuracy','val_accuracy']].plot()"
   ]
  },
  {
   "cell_type": "code",
   "execution_count": 28,
   "id": "bcec2d06-5d20-4f93-8310-f03cf96b34c2",
   "metadata": {},
   "outputs": [
    {
     "name": "stdout",
     "output_type": "stream",
     "text": [
      "313/313 [==============================] - 2s 8ms/step - loss: 0.3145 - accuracy: 0.8863\n"
     ]
    },
    {
     "data": {
      "text/plain": [
       "[0.31448614597320557, 0.8863000273704529]"
      ]
     },
     "execution_count": 28,
     "metadata": {},
     "output_type": "execute_result"
    }
   ],
   "source": [
    "model.evaluate(x_test, y_cat_test)"
   ]
  },
  {
   "cell_type": "code",
   "execution_count": 29,
   "id": "6a0332c1-1bef-4bc6-af99-540eaf666cc9",
   "metadata": {},
   "outputs": [
    {
     "data": {
      "text/plain": [
       "['loss', 'accuracy']"
      ]
     },
     "execution_count": 29,
     "metadata": {},
     "output_type": "execute_result"
    }
   ],
   "source": [
    "model.metrics_names"
   ]
  },
  {
   "cell_type": "markdown",
   "id": "99e83fcf-ecf1-4a3c-86b0-f634484ae660",
   "metadata": {},
   "source": [
    "## Confusion matrix and Classification report"
   ]
  },
  {
   "cell_type": "markdown",
   "id": "5afb91f5-daaf-443c-bb99-bde66baa7b59",
   "metadata": {},
   "source": [
    "**Getting predictions**"
   ]
  },
  {
   "cell_type": "code",
   "execution_count": 31,
   "id": "285faa02-53d8-406a-858b-d26a0ead0b4d",
   "metadata": {},
   "outputs": [
    {
     "name": "stdout",
     "output_type": "stream",
     "text": [
      "313/313 [==============================] - 4s 13ms/step\n"
     ]
    }
   ],
   "source": [
    "predictions = model.predict(x_test)\n",
    "predict_classes = np.argmax(predictions, axis=1)"
   ]
  },
  {
   "cell_type": "code",
   "execution_count": 35,
   "id": "c9bd838f-72e2-4862-9714-e2ad5a86bbc2",
   "metadata": {},
   "outputs": [
    {
     "data": {
      "text/plain": [
       "array([9, 2, 1, ..., 8, 1, 5], dtype=int64)"
      ]
     },
     "execution_count": 35,
     "metadata": {},
     "output_type": "execute_result"
    }
   ],
   "source": [
    "predict_classes"
   ]
  },
  {
   "cell_type": "markdown",
   "id": "d185174b-ca3d-4d13-b1be-3ee96e5d9612",
   "metadata": {},
   "source": [
    "**importing cofusion matrix and classification report**"
   ]
  },
  {
   "cell_type": "code",
   "execution_count": 30,
   "id": "1a13ff55-fb9e-4c3d-a51b-afb4e44e244f",
   "metadata": {},
   "outputs": [],
   "source": [
    "from sklearn.metrics import confusion_matrix, classification_report"
   ]
  },
  {
   "cell_type": "markdown",
   "id": "1cddcf11-9421-4397-9bd5-d31534579d9c",
   "metadata": {},
   "source": [
    "**Creating confusion matrix**"
   ]
  },
  {
   "cell_type": "code",
   "execution_count": 53,
   "id": "a0c8f82c-4255-458f-868f-68ab4859b37d",
   "metadata": {},
   "outputs": [
    {
     "data": {
      "image/png": "[encoded data removed]",
      "text/plain": [
       "<Figure size 900x500 with 2 Axes>"
      ]
     },
     "metadata": {
      "needs_background": "light"
     },
     "output_type": "display_data"
    }
   ],
   "source": [
    "confusion_mat = confusion_matrix(y_test, predict_classes)\n",
    "plt.figure(figsize=(9,5), dpi=100)\n",
    "labels = ['T-shirt/top','Trouser','Pullover','Dress','Coat','Sandal','Shirt','Sneaker','Bag','Ankle boot']\n",
    "sns.heatmap(confusion_mat, annot=True, fmt='d', cmap='Reds', xticklabels=labels, yticklabels=labels)\n",
    "plt.xticks(rotation='vertical')\n",
    "plt.xlabel('True Values', fontdict={'fontsize':15})\n",
    "plt.ylabel('Predictions', fontdict={'fontsize':15})\n",
    "plt.title('Confusion Matrix', fontdict={'fontsize':20})\n",
    "plt.show()"
   ]
  },
  {
   "cell_type": "markdown",
   "id": "2f955083-e734-4d55-8ce0-7c7459449a5d",
   "metadata": {},
   "source": [
    "**Classification report**"
   ]
  },
  {
   "cell_type": "code",
   "execution_count": 54,
   "id": "9c196a1d-a32e-4fde-a31f-c334d10cee31",
   "metadata": {},
   "outputs": [
    {
     "name": "stdout",
     "output_type": "stream",
     "text": [
      "              precision    recall  f1-score   support\n",
      "\n",
      "           0       0.77      0.91      0.83      1000\n",
      "           1       0.99      0.98      0.98      1000\n",
      "           2       0.77      0.89      0.83      1000\n",
      "           3       0.89      0.90      0.90      1000\n",
      "           4       0.85      0.76      0.80      1000\n",
      "           5       0.98      0.98      0.98      1000\n",
      "           6       0.74      0.55      0.63      1000\n",
      "           7       0.94      0.96      0.95      1000\n",
      "           8       0.96      0.98      0.97      1000\n",
      "           9       0.97      0.95      0.96      1000\n",
      "\n",
      "    accuracy                           0.89     10000\n",
      "   macro avg       0.89      0.89      0.88     10000\n",
      "weighted avg       0.89      0.89      0.88     10000\n",
      "\n"
     ]
    }
   ],
   "source": [
    "print(classification_report(y_test, predict_classes))"
   ]
  },
  {
   "cell_type": "markdown",
   "id": "c339f8f1-d2f3-46d7-9d54-a3b8c39038c9",
   "metadata": {},
   "source": [
    "## Predicting a picture"
   ]
  },
  {
   "cell_type": "code",
   "execution_count": 60,
   "id": "f45ee6b7-d699-4b01-80ec-3a902bbf223c",
   "metadata": {},
   "outputs": [
    {
     "data": {
      "text/plain": [
       "<matplotlib.image.AxesImage at 0x1eaca0dd8b0>"
      ]
     },
     "execution_count": 60,
     "metadata": {},
     "output_type": "execute_result"
    },
    {
     "data": {
      "image/png": "[encoded data removed]",
      "text/plain": [
       "<Figure size 432x288 with 1 Axes>"
      ]
     },
     "metadata": {
      "needs_background": "light"
     },
     "output_type": "display_data"
    }
   ],
   "source": [
    "from random import randint\n",
    "r = randint(0,1000)\n",
    "random_image = x_test[r]\n",
    "plt.imshow(random_image)"
   ]
  },
  {
   "cell_type": "code",
   "execution_count": 62,
   "id": "1ce76204-6fa7-43d0-abb1-ab824049af1b",
   "metadata": {},
   "outputs": [
    {
     "name": "stdout",
     "output_type": "stream",
     "text": [
      "1/1 [==============================] - 0s 69ms/step\n"
     ]
    },
    {
     "data": {
      "text/plain": [
       "0"
      ]
     },
     "execution_count": 62,
     "metadata": {},
     "output_type": "execute_result"
    }
   ],
   "source": [
    "np.argmax(model.predict(random_image.reshape(1,28,28,1)))"
   ]
  },
  {
   "cell_type": "markdown",
   "id": "d33075ef-2a48-439e-8106-9d7e1a93db41",
   "metadata": {},
   "source": [
    "**Recall from labels that 0 class corresponds to T-shirt/top**"
   ]
  },
  {
   "cell_type": "markdown",
   "id": "ba05b391-faaa-41c1-90c8-0d8a7a695493",
   "metadata": {},
   "source": [
    "## Save the model for future use"
   ]
  },
  {
   "cell_type": "code",
   "execution_count": null,
   "id": "4e2792af-84dd-442e-bfba-8a4d4c01a4fa",
   "metadata": {
    "tags": []
   },
   "outputs": [],
   "source": [
    "model.save('MNIST fashion classifier.hf')"
   ]
  },
  {
   "cell_type": "markdown",
   "id": "6088d305-4b87-4631-934b-e01407c02973",
   "metadata": {
    "tags": []
   },
   "source": [
    "## The End"
   ]
  }
 ],
 "metadata": {
  "kernelspec": {
   "display_name": "Python 3 (ipykernel)",
   "language": "python",
   "name": "python3"
  },
  "language_info": {
   "codemirror_mode": {
    "name": "ipython",
    "version": 3
   },
   "file_extension": ".py",
   "mimetype": "text/x-python",
   "name": "python",
   "nbconvert_exporter": "python",
   "pygments_lexer": "ipython3",
   "version": "3.9.12"
  }
 },
 "nbformat": 4,
 "nbformat_minor": 5
}
